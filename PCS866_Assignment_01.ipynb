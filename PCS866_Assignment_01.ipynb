{
  "nbformat": 4,
  "nbformat_minor": 0,
  "metadata": {
    "colab": {
      "provenance": [],
      "authorship_tag": "ABX9TyP7ttOnkAEU788vEdCDde6p",
      "include_colab_link": true
    },
    "kernelspec": {
      "name": "python3",
      "display_name": "Python 3"
    },
    "language_info": {
      "name": "python"
    }
  },
  "cells": [
    {
      "cell_type": "markdown",
      "metadata": {
        "id": "view-in-github",
        "colab_type": "text"
      },
      "source": [
        "<a href=\"https://colab.research.google.com/github/aimlresearcher/PCS866/blob/main/PCS866_Assignment_01.ipynb\" target=\"_parent\"><img src=\"https://colab.research.google.com/assets/colab-badge.svg\" alt=\"Open In Colab\"/></a>"
      ]
    },
    {
      "cell_type": "markdown",
      "source": [
        "# Assignment: 01\n",
        "# Course Code:  PCS866\n",
        "# Course Teacher: Professor Dr. Abid Sohail Bhutta\n",
        "\n",
        "### Activity 4: Variable Assignment and Variable Naming Conventions\n",
        "Write a script that will calculate the area and circumference of a circle with a radius of 7. In this activity, we shall get better acquainted with variable assignment as well as variable naming conventions\n",
        "\n",
        "Here are some hints:\n",
        "\n",
        "* The formula for calculating area is π * r², r being the radius.\n",
        "* The formula for calculating circumference is 2 * π * r.\n",
        "* π can be approximated to 3.14159."
      ],
      "metadata": {
        "id": "qXCOYkFl-vDy"
      }
    },
    {
      "cell_type": "code",
      "execution_count": 7,
      "metadata": {
        "colab": {
          "base_uri": "https://localhost:8080/"
        },
        "id": "qJWVub_N-rvL",
        "outputId": "88768e23-6bca-4f31-975e-0b47efbe8a80"
      },
      "outputs": [
        {
          "output_type": "stream",
          "name": "stdout",
          "text": [
            "Area of the circle:  153.93804002589985\n",
            "Circumference of the circle:  43.982297150257104\n"
          ]
        }
      ],
      "source": [
        "# Importing the math module to access mathematical functions and constants\n",
        "import math\n",
        "\n",
        "# Assigning a value to the radius of the circle\n",
        "radius = 7\n",
        "\n",
        "# Calculating the area of the circle using the formula: pi * radius^2\n",
        "area = math.pi * (radius**2)\n",
        "\n",
        "# Calculating the circumference of the circle using the formula: 2 * pi * radius\n",
        "circumference = 2 * math.pi * radius\n",
        "\n",
        "# Displaying the calculated area and circumference of the circle\n",
        "print(\"Area of the circle: \", area)\n",
        "print(\"Circumference of the circle: \", circumference)"
      ]
    },
    {
      "cell_type": "code",
      "source": [],
      "metadata": {
        "id": "U12mrmMaBIVe"
      },
      "execution_count": null,
      "outputs": []
    }
  ]
}